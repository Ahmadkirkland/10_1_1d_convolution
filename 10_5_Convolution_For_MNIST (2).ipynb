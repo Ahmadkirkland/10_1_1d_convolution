{
  "nbformat": 4,
  "nbformat_minor": 0,
  "metadata": {
    "colab": {
      "provenance": []
    },
    "kernelspec": {
      "name": "python3",
      "display_name": "Python 3"
    },
    "language_info": {
      "name": "python"
    }
  },
  "cells": [
    {
      "cell_type": "markdown",
      "metadata": {
        "id": "view-in-github"
      },
      "source": [
        "<a href=\"https://colab.research.google.com/github/udlbook/udlbook/blob/main/Notebooks/Chap10/10_5_Convolution_For_MNIST.ipynb\" target=\"_parent\"><img src=\"https://colab.research.google.com/assets/colab-badge.svg\" alt=\"Open In Colab\"/></a>"
      ]
    },
    {
      "cell_type": "markdown",
      "source": [
        "# **Notebook 10.5: Convolution for MNIST**\n",
        "\n",
        "This notebook builds a proper network for 2D convolution.  It works with the MNIST dataset (figure 15.15a), which was the original classic dataset for classifying images.  The network will take a 28x28 grayscale image and classify it into one of 10 classes representing a digit.\n",
        "\n",
        "The code is adapted from https://nextjournal.com/gkoehler/pytorch-mnist\n",
        "\n",
        "Work through the cells below, running each cell in turn. In various places you will see the words \"TO DO\". Follow the instructions at these places and make predictions about what is going to happen or write code to complete the functions.\n",
        "\n",
        "Contact me at udlbookmail@gmail.com if you find any mistakes or have any suggestions.\n"
      ],
      "metadata": {
        "id": "t9vk9Elugvmi"
      }
    },
    {
      "cell_type": "code",
      "source": [
        "import torch\n",
        "import torchvision\n",
        "import torch.nn as nn\n",
        "import torch.nn.functional as F\n",
        "import torch.optim as optim\n",
        "import matplotlib.pyplot as plt\n",
        "import random"
      ],
      "metadata": {
        "id": "YrXWAH7sUWvU"
      },
      "execution_count": 1,
      "outputs": []
    },
    {
      "cell_type": "code",
      "source": [
        "# Run this once to load the train and test data straight into a dataloader class\n",
        "# that will provide the batches\n",
        "\n",
        "# (It may complain that some files are missing because the files seem to have been\n",
        "# reorganized on the underlying website, but it still seems to work). If everything is working\n",
        "# properly, then the whole notebook should run to the end without further problems\n",
        "# even before you make changes.\n",
        "batch_size_train = 64\n",
        "batch_size_test = 1000\n",
        "\n",
        "# TODO Change this directory to point towards an existing directory\n",
        "myDir = '/files/'\n",
        "\n",
        "train_loader = torch.utils.data.DataLoader(\n",
        "  torchvision.datasets.MNIST(myDir, train=True, download=True,\n",
        "                             transform=torchvision.transforms.Compose([\n",
        "                               torchvision.transforms.ToTensor(),\n",
        "                               torchvision.transforms.Normalize(\n",
        "                                 (0.1307,), (0.3081,))\n",
        "                             ])),\n",
        "  batch_size=batch_size_train, shuffle=True)\n",
        "\n",
        "test_loader = torch.utils.data.DataLoader(\n",
        "  torchvision.datasets.MNIST(myDir, train=False, download=True,\n",
        "                             transform=torchvision.transforms.Compose([\n",
        "                               torchvision.transforms.ToTensor(),\n",
        "                               torchvision.transforms.Normalize(\n",
        "                                 (0.1307,), (0.3081,))\n",
        "                             ])),\n",
        "  batch_size=batch_size_test, shuffle=True)"
      ],
      "metadata": {
        "id": "wScBGXXFVadm",
        "colab": {
          "base_uri": "https://localhost:8080/"
        },
        "outputId": "e24abdd3-7732-4857-f200-36d5ebb854bd"
      },
      "execution_count": 2,
      "outputs": [
        {
          "output_type": "stream",
          "name": "stdout",
          "text": [
            "Downloading http://yann.lecun.com/exdb/mnist/train-images-idx3-ubyte.gz\n",
            "Failed to download (trying next):\n",
            "<urlopen error [SSL: CERTIFICATE_VERIFY_FAILED] certificate verify failed: certificate has expired (_ssl.c:1007)>\n",
            "\n",
            "Downloading https://ossci-datasets.s3.amazonaws.com/mnist/train-images-idx3-ubyte.gz\n",
            "Downloading https://ossci-datasets.s3.amazonaws.com/mnist/train-images-idx3-ubyte.gz to /files/MNIST/raw/train-images-idx3-ubyte.gz\n"
          ]
        },
        {
          "output_type": "stream",
          "name": "stderr",
          "text": [
            "100%|██████████| 9.91M/9.91M [00:00<00:00, 21.8MB/s]\n"
          ]
        },
        {
          "output_type": "stream",
          "name": "stdout",
          "text": [
            "Extracting /files/MNIST/raw/train-images-idx3-ubyte.gz to /files/MNIST/raw\n",
            "\n",
            "Downloading http://yann.lecun.com/exdb/mnist/train-labels-idx1-ubyte.gz\n",
            "Failed to download (trying next):\n",
            "<urlopen error [SSL: CERTIFICATE_VERIFY_FAILED] certificate verify failed: certificate has expired (_ssl.c:1007)>\n",
            "\n",
            "Downloading https://ossci-datasets.s3.amazonaws.com/mnist/train-labels-idx1-ubyte.gz\n",
            "Downloading https://ossci-datasets.s3.amazonaws.com/mnist/train-labels-idx1-ubyte.gz to /files/MNIST/raw/train-labels-idx1-ubyte.gz\n"
          ]
        },
        {
          "output_type": "stream",
          "name": "stderr",
          "text": [
            "100%|██████████| 28.9k/28.9k [00:00<00:00, 637kB/s]\n"
          ]
        },
        {
          "output_type": "stream",
          "name": "stdout",
          "text": [
            "Extracting /files/MNIST/raw/train-labels-idx1-ubyte.gz to /files/MNIST/raw\n",
            "\n",
            "Downloading http://yann.lecun.com/exdb/mnist/t10k-images-idx3-ubyte.gz\n",
            "Failed to download (trying next):\n",
            "<urlopen error [SSL: CERTIFICATE_VERIFY_FAILED] certificate verify failed: certificate has expired (_ssl.c:1007)>\n",
            "\n",
            "Downloading https://ossci-datasets.s3.amazonaws.com/mnist/t10k-images-idx3-ubyte.gz\n",
            "Downloading https://ossci-datasets.s3.amazonaws.com/mnist/t10k-images-idx3-ubyte.gz to /files/MNIST/raw/t10k-images-idx3-ubyte.gz\n"
          ]
        },
        {
          "output_type": "stream",
          "name": "stderr",
          "text": [
            "100%|██████████| 1.65M/1.65M [00:00<00:00, 5.60MB/s]\n"
          ]
        },
        {
          "output_type": "stream",
          "name": "stdout",
          "text": [
            "Extracting /files/MNIST/raw/t10k-images-idx3-ubyte.gz to /files/MNIST/raw\n",
            "\n",
            "Downloading http://yann.lecun.com/exdb/mnist/t10k-labels-idx1-ubyte.gz\n",
            "Failed to download (trying next):\n",
            "<urlopen error [SSL: CERTIFICATE_VERIFY_FAILED] certificate verify failed: certificate has expired (_ssl.c:1007)>\n",
            "\n",
            "Downloading https://ossci-datasets.s3.amazonaws.com/mnist/t10k-labels-idx1-ubyte.gz\n",
            "Downloading https://ossci-datasets.s3.amazonaws.com/mnist/t10k-labels-idx1-ubyte.gz to /files/MNIST/raw/t10k-labels-idx1-ubyte.gz\n"
          ]
        },
        {
          "output_type": "stream",
          "name": "stderr",
          "text": [
            "100%|██████████| 4.54k/4.54k [00:00<00:00, 3.76MB/s]"
          ]
        },
        {
          "output_type": "stream",
          "name": "stdout",
          "text": [
            "Extracting /files/MNIST/raw/t10k-labels-idx1-ubyte.gz to /files/MNIST/raw\n",
            "\n"
          ]
        },
        {
          "output_type": "stream",
          "name": "stderr",
          "text": [
            "\n"
          ]
        }
      ]
    },
    {
      "cell_type": "code",
      "source": [
        "# Let's draw some of the training data\n",
        "examples = enumerate(test_loader)\n",
        "batch_idx, (example_data, example_targets) = next(examples)\n",
        "\n",
        "fig = plt.figure()\n",
        "for i in range(6):\n",
        "  plt.subplot(2,3,i+1)\n",
        "  plt.tight_layout()\n",
        "  plt.imshow(example_data[i][0], cmap='gray', interpolation='none')\n",
        "  plt.title(\"Ground Truth: {}\".format(example_targets[i]))\n",
        "  plt.xticks([])\n",
        "  plt.yticks([])\n",
        "plt.show()"
      ],
      "metadata": {
        "id": "8bKADvLHbiV5",
        "colab": {
          "base_uri": "https://localhost:8080/",
          "height": 438
        },
        "outputId": "22ee04bb-b915-48c5-d9d9-c1c3f65a692e"
      },
      "execution_count": 3,
      "outputs": [
        {
          "output_type": "display_data",
          "data": {
            "text/plain": [
              "<Figure size 640x480 with 6 Axes>"
            ],
            "image/png": "[encoded data removed]"
          },
          "metadata": {}
        }
      ]
    },
    {
      "cell_type": "markdown",
      "source": [
        "Define the network.  This is a more typical way to define a network than the sequential structure.  We define a class for the network, and define the parameters in the constructor.  Then we use a function called forward to actually run the network.  It's easy to see how you might use residual connections in this format."
      ],
      "metadata": {
        "id": "_sFvRDGrl4qe"
      }
    },
    {
      "cell_type": "code",
      "source": [
        "from os import X_OK\n",
        "# TODO Change this class to implement\n",
        "# 1. A valid convolution with kernel size 5, 1 input channel and 10 output channels\n",
        "# 2. A max pooling operation over a 2x2 area\n",
        "# 3. A Relu\n",
        "# 4. A valid convolution with kernel size 5, 10 input channels and 20 output channels\n",
        "# 5. A 2D Dropout layer\n",
        "# 6. A max pooling operation over a 2x2 area\n",
        "# 7. A relu\n",
        "# 8. A flattening operation\n",
        "# 9. A fully connected layer mapping from (whatever dimensions we are at-- find out using .shape) to 50\n",
        "# 10. A ReLU\n",
        "# 11. A fully connected layer mapping from 50 to 10 dimensions\n",
        "# 12. A softmax function.\n",
        "\n",
        "# Replace this class which implements a minimal network (which still does okay)\n",
        "class Net(nn.Module):\n",
        "    def __init__(self):\n",
        "        super(Net, self).__init__()\n",
        "        # Valid convolution, 1 channel in, 2 channels out, stride 1, kernel size = 5\n",
        "        self.conv1 = nn.Conv2d(1, 10, kernel_size=5)\n",
        "# 4. A valid convolution with kernel size 5, 10 input channels and 20 output channels\n",
        "        self.conv2 = nn.Conv2d(10, 20, kernel_size=5)\n",
        "        # Dropout for convolutions\n",
        "        self.drop = nn.Dropout2d()\n",
        "        # Fully connected layer\n",
        "        self.fc1 = nn.Linear(320, 50)\n",
        "        self.fc2 = nn.Linear(50, 10)\n",
        "\n",
        "    def forward(self, x):\n",
        "        x = self.conv1(x)\n",
        "        x = F.relu(x)\n",
        "        x = F.max_pool2d(x,2)\n",
        "        x = self.conv2(x)\n",
        "        x = F.relu(x)\n",
        "        x = F.max_pool2d(x,2)\n",
        "        x = self.drop(x)\n",
        "        x = x.view(x.size(0), -1)\n",
        "        x = self.fc1(x)\n",
        "        x = F.relu(x)\n",
        "        x = F.dropout(x, training=self.training)\n",
        "        x = self.fc2(x)\n",
        "        x = F.log_softmax(x, dim=1)\n",
        "        return x\n",
        "\n",
        "\n",
        "\n",
        "\n"
      ],
      "metadata": {
        "id": "EQkvw2KOPVl7"
      },
      "execution_count": 4,
      "outputs": []
    },
    {
      "cell_type": "code",
      "source": [
        "# He initialization of weights\n",
        "def weights_init(layer_in):\n",
        "  if isinstance(layer_in, nn.Linear):\n",
        "    nn.init.kaiming_uniform_(layer_in.weight)\n",
        "    layer_in.bias.data.fill_(0.0)"
      ],
      "metadata": {
        "id": "qWZtkCZcU_dg"
      },
      "execution_count": 5,
      "outputs": []
    },
    {
      "cell_type": "code",
      "source": [
        "# Create network\n",
        "model = Net()\n",
        "# Initialize model weights\n",
        "model.apply(weights_init)\n",
        "# Define optimizer\n",
        "optimizer = optim.SGD(model.parameters(), lr=0.01, momentum=0.5)"
      ],
      "metadata": {
        "id": "FslroPJJffrh"
      },
      "execution_count": 6,
      "outputs": []
    },
    {
      "cell_type": "code",
      "source": [
        "# Main training routine\n",
        "def train(epoch):\n",
        "  model.train()\n",
        "  # Get each\n",
        "  for batch_idx, (data, target) in enumerate(train_loader):\n",
        "    optimizer.zero_grad()\n",
        "    output = model(data)\n",
        "    loss = F.nll_loss(output, target)\n",
        "    loss.backward()\n",
        "    optimizer.step()\n",
        "    # Store results\n",
        "    if batch_idx % 10 == 0:\n",
        "      print('Train Epoch: {} [{}/{}]\\tLoss: {:.6f}'.format(\n",
        "        epoch, batch_idx * len(data), len(train_loader.dataset), loss.item()))"
      ],
      "metadata": {
        "id": "xKQd9PzkQ766"
      },
      "execution_count": 7,
      "outputs": []
    },
    {
      "cell_type": "code",
      "source": [
        "# Run on test data\n",
        "def test():\n",
        "  model.eval()\n",
        "  test_loss = 0\n",
        "  correct = 0\n",
        "  with torch.no_grad():\n",
        "    for data, target in test_loader:\n",
        "      output = model(data)\n",
        "      test_loss += F.nll_loss(output, target, size_average=False).item()\n",
        "      pred = output.data.max(1, keepdim=True)[1]\n",
        "      correct += pred.eq(target.data.view_as(pred)).sum()\n",
        "  test_loss /= len(test_loader.dataset)\n",
        "  print('\\nTest set: Avg. loss: {:.4f}, Accuracy: {}/{} ({:.0f}%)\\n'.format(\n",
        "    test_loss, correct, len(test_loader.dataset),\n",
        "    100. * correct / len(test_loader.dataset)))"
      ],
      "metadata": {
        "id": "Byn-f7qWRLxX"
      },
      "execution_count": 8,
      "outputs": []
    },
    {
      "cell_type": "code",
      "source": [
        "# Get initial performance\n",
        "test()\n",
        "# Train for three epochs\n",
        "n_epochs = 3\n",
        "for epoch in range(1, n_epochs + 1):\n",
        "  train(epoch)\n",
        "  test()"
      ],
      "metadata": {
        "id": "YgLaex1pfhqz",
        "colab": {
          "base_uri": "https://localhost:8080/"
        },
        "outputId": "8ac7807a-09a7-45cb-adcf-d6fb539abdb1"
      },
      "execution_count": null,
      "outputs": [
        {
          "output_type": "stream",
          "name": "stderr",
          "text": [
            "/usr/local/lib/python3.10/dist-packages/torch/nn/_reduction.py:51: UserWarning: size_average and reduce args will be deprecated, please use reduction='sum' instead.\n",
            "  warnings.warn(warning.format(ret))\n"
          ]
        },
        {
          "output_type": "stream",
          "name": "stdout",
          "text": [
            "\n",
            "Test set: Avg. loss: 2.4343, Accuracy: 816/10000 (8%)\n",
            "\n",
            "Train Epoch: 1 [0/60000]\tLoss: 2.517621\n",
            "Train Epoch: 1 [640/60000]\tLoss: 2.275361\n",
            "Train Epoch: 1 [1280/60000]\tLoss: 2.239907\n",
            "Train Epoch: 1 [1920/60000]\tLoss: 2.222404\n",
            "Train Epoch: 1 [2560/60000]\tLoss: 2.253361\n",
            "Train Epoch: 1 [3200/60000]\tLoss: 2.206702\n",
            "Train Epoch: 1 [3840/60000]\tLoss: 2.110984\n",
            "Train Epoch: 1 [4480/60000]\tLoss: 2.030908\n",
            "Train Epoch: 1 [5120/60000]\tLoss: 2.159186\n",
            "Train Epoch: 1 [5760/60000]\tLoss: 1.977182\n",
            "Train Epoch: 1 [6400/60000]\tLoss: 1.918111\n",
            "Train Epoch: 1 [7040/60000]\tLoss: 2.010326\n",
            "Train Epoch: 1 [7680/60000]\tLoss: 1.594810\n",
            "Train Epoch: 1 [8320/60000]\tLoss: 1.805053\n",
            "Train Epoch: 1 [8960/60000]\tLoss: 1.668415\n",
            "Train Epoch: 1 [9600/60000]\tLoss: 1.564650\n",
            "Train Epoch: 1 [10240/60000]\tLoss: 1.506573\n",
            "Train Epoch: 1 [10880/60000]\tLoss: 1.414504\n",
            "Train Epoch: 1 [11520/60000]\tLoss: 1.256503\n",
            "Train Epoch: 1 [12160/60000]\tLoss: 1.542565\n",
            "Train Epoch: 1 [12800/60000]\tLoss: 1.382147\n",
            "Train Epoch: 1 [13440/60000]\tLoss: 1.293928\n",
            "Train Epoch: 1 [14080/60000]\tLoss: 1.529030\n",
            "Train Epoch: 1 [14720/60000]\tLoss: 1.068835\n",
            "Train Epoch: 1 [15360/60000]\tLoss: 1.130970\n",
            "Train Epoch: 1 [16000/60000]\tLoss: 1.207896\n",
            "Train Epoch: 1 [16640/60000]\tLoss: 1.361218\n",
            "Train Epoch: 1 [17280/60000]\tLoss: 1.290252\n",
            "Train Epoch: 1 [17920/60000]\tLoss: 1.336881\n",
            "Train Epoch: 1 [18560/60000]\tLoss: 1.315531\n",
            "Train Epoch: 1 [19200/60000]\tLoss: 1.340118\n",
            "Train Epoch: 1 [19840/60000]\tLoss: 1.154652\n",
            "Train Epoch: 1 [20480/60000]\tLoss: 0.769928\n",
            "Train Epoch: 1 [21120/60000]\tLoss: 0.981901\n",
            "Train Epoch: 1 [21760/60000]\tLoss: 0.856649\n",
            "Train Epoch: 1 [22400/60000]\tLoss: 1.050485\n",
            "Train Epoch: 1 [23040/60000]\tLoss: 1.021201\n",
            "Train Epoch: 1 [23680/60000]\tLoss: 1.034392\n",
            "Train Epoch: 1 [24320/60000]\tLoss: 0.894535\n",
            "Train Epoch: 1 [24960/60000]\tLoss: 1.145876\n",
            "Train Epoch: 1 [25600/60000]\tLoss: 1.003484\n",
            "Train Epoch: 1 [26240/60000]\tLoss: 0.963474\n",
            "Train Epoch: 1 [26880/60000]\tLoss: 1.033949\n",
            "Train Epoch: 1 [27520/60000]\tLoss: 1.001204\n",
            "Train Epoch: 1 [28160/60000]\tLoss: 1.066438\n",
            "Train Epoch: 1 [28800/60000]\tLoss: 0.822222\n",
            "Train Epoch: 1 [29440/60000]\tLoss: 1.014855\n",
            "Train Epoch: 1 [30080/60000]\tLoss: 0.865430\n",
            "Train Epoch: 1 [30720/60000]\tLoss: 0.630325\n",
            "Train Epoch: 1 [31360/60000]\tLoss: 0.927411\n",
            "Train Epoch: 1 [32000/60000]\tLoss: 0.698889\n",
            "Train Epoch: 1 [32640/60000]\tLoss: 0.815588\n",
            "Train Epoch: 1 [33280/60000]\tLoss: 1.108144\n",
            "Train Epoch: 1 [33920/60000]\tLoss: 0.978535\n",
            "Train Epoch: 1 [34560/60000]\tLoss: 0.649538\n",
            "Train Epoch: 1 [35200/60000]\tLoss: 0.898499\n",
            "Train Epoch: 1 [35840/60000]\tLoss: 0.816286\n",
            "Train Epoch: 1 [36480/60000]\tLoss: 0.941155\n",
            "Train Epoch: 1 [37120/60000]\tLoss: 0.645860\n",
            "Train Epoch: 1 [37760/60000]\tLoss: 0.794026\n",
            "Train Epoch: 1 [38400/60000]\tLoss: 0.646449\n",
            "Train Epoch: 1 [39040/60000]\tLoss: 0.696494\n",
            "Train Epoch: 1 [39680/60000]\tLoss: 0.626128\n",
            "Train Epoch: 1 [40320/60000]\tLoss: 0.738489\n",
            "Train Epoch: 1 [40960/60000]\tLoss: 0.550240\n",
            "Train Epoch: 1 [41600/60000]\tLoss: 0.880357\n",
            "Train Epoch: 1 [42240/60000]\tLoss: 0.527539\n",
            "Train Epoch: 1 [42880/60000]\tLoss: 0.951227\n",
            "Train Epoch: 1 [43520/60000]\tLoss: 0.910406\n",
            "Train Epoch: 1 [44160/60000]\tLoss: 0.851926\n",
            "Train Epoch: 1 [44800/60000]\tLoss: 0.477583\n",
            "Train Epoch: 1 [45440/60000]\tLoss: 0.583286\n",
            "Train Epoch: 1 [46080/60000]\tLoss: 0.684234\n",
            "Train Epoch: 1 [46720/60000]\tLoss: 0.789889\n",
            "Train Epoch: 1 [47360/60000]\tLoss: 0.767259\n",
            "Train Epoch: 1 [48000/60000]\tLoss: 0.842742\n",
            "Train Epoch: 1 [48640/60000]\tLoss: 0.769722\n",
            "Train Epoch: 1 [49280/60000]\tLoss: 0.604702\n",
            "Train Epoch: 1 [49920/60000]\tLoss: 0.645717\n",
            "Train Epoch: 1 [50560/60000]\tLoss: 0.630162\n",
            "Train Epoch: 1 [51200/60000]\tLoss: 0.681297\n",
            "Train Epoch: 1 [51840/60000]\tLoss: 0.827688\n",
            "Train Epoch: 1 [52480/60000]\tLoss: 0.672253\n",
            "Train Epoch: 1 [53120/60000]\tLoss: 0.655955\n",
            "Train Epoch: 1 [53760/60000]\tLoss: 0.615786\n",
            "Train Epoch: 1 [54400/60000]\tLoss: 0.583743\n",
            "Train Epoch: 1 [55040/60000]\tLoss: 0.504897\n",
            "Train Epoch: 1 [55680/60000]\tLoss: 0.606568\n",
            "Train Epoch: 1 [56320/60000]\tLoss: 0.657003\n",
            "Train Epoch: 1 [56960/60000]\tLoss: 0.576891\n",
            "Train Epoch: 1 [57600/60000]\tLoss: 0.621775\n",
            "Train Epoch: 1 [58240/60000]\tLoss: 0.416050\n",
            "Train Epoch: 1 [58880/60000]\tLoss: 0.427429\n",
            "Train Epoch: 1 [59520/60000]\tLoss: 0.615304\n",
            "\n",
            "Test set: Avg. loss: 0.1963, Accuracy: 9495/10000 (95%)\n",
            "\n",
            "Train Epoch: 2 [0/60000]\tLoss: 0.848489\n",
            "Train Epoch: 2 [640/60000]\tLoss: 0.557939\n",
            "Train Epoch: 2 [1280/60000]\tLoss: 0.840661\n",
            "Train Epoch: 2 [1920/60000]\tLoss: 0.546031\n",
            "Train Epoch: 2 [2560/60000]\tLoss: 0.777017\n",
            "Train Epoch: 2 [3200/60000]\tLoss: 0.724409\n",
            "Train Epoch: 2 [3840/60000]\tLoss: 0.434363\n",
            "Train Epoch: 2 [4480/60000]\tLoss: 0.436462\n",
            "Train Epoch: 2 [5120/60000]\tLoss: 0.501779\n",
            "Train Epoch: 2 [5760/60000]\tLoss: 0.554022\n",
            "Train Epoch: 2 [6400/60000]\tLoss: 0.669417\n",
            "Train Epoch: 2 [7040/60000]\tLoss: 0.489557\n",
            "Train Epoch: 2 [7680/60000]\tLoss: 0.826762\n",
            "Train Epoch: 2 [8320/60000]\tLoss: 0.394594\n",
            "Train Epoch: 2 [8960/60000]\tLoss: 0.392688\n",
            "Train Epoch: 2 [9600/60000]\tLoss: 0.379564\n",
            "Train Epoch: 2 [10240/60000]\tLoss: 0.474092\n",
            "Train Epoch: 2 [10880/60000]\tLoss: 0.374880\n",
            "Train Epoch: 2 [11520/60000]\tLoss: 0.369060\n",
            "Train Epoch: 2 [12160/60000]\tLoss: 0.615562\n",
            "Train Epoch: 2 [12800/60000]\tLoss: 0.416685\n",
            "Train Epoch: 2 [13440/60000]\tLoss: 0.679415\n",
            "Train Epoch: 2 [14080/60000]\tLoss: 0.777304\n",
            "Train Epoch: 2 [14720/60000]\tLoss: 0.560064\n",
            "Train Epoch: 2 [15360/60000]\tLoss: 0.537869\n",
            "Train Epoch: 2 [16000/60000]\tLoss: 0.447624\n",
            "Train Epoch: 2 [16640/60000]\tLoss: 0.631315\n",
            "Train Epoch: 2 [17280/60000]\tLoss: 0.307585\n",
            "Train Epoch: 2 [17920/60000]\tLoss: 0.311786\n",
            "Train Epoch: 2 [18560/60000]\tLoss: 0.581141\n",
            "Train Epoch: 2 [19200/60000]\tLoss: 0.387315\n",
            "Train Epoch: 2 [19840/60000]\tLoss: 0.561569\n",
            "Train Epoch: 2 [20480/60000]\tLoss: 0.645449\n",
            "Train Epoch: 2 [21120/60000]\tLoss: 0.723884\n",
            "Train Epoch: 2 [21760/60000]\tLoss: 0.585645\n"
          ]
        }
      ]
    },
    {
      "cell_type": "code",
      "source": [
        "# Run network on data we got before and show predictions\n",
        "output = model(example_data)\n",
        "\n",
        "fig = plt.figure()\n",
        "for i in range(10):\n",
        "  plt.subplot(5,5,i+1)\n",
        "  plt.tight_layout()\n",
        "  plt.imshow(example_data[i][0], cmap='gray', interpolation='none')\n",
        "  plt.title(\"Prediction: {}\".format(\n",
        "    output.data.max(1, keepdim=True)[1][i].item()))\n",
        "  plt.xticks([])\n",
        "  plt.yticks([])\n",
        "plt.show()"
      ],
      "metadata": {
        "id": "o7fRUAy9Se1B"
      },
      "execution_count": null,
      "outputs": []
    }
  ]
}