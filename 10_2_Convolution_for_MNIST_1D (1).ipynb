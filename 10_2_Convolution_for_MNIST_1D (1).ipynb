{
  "nbformat": 4,
  "nbformat_minor": 0,
  "metadata": {
    "colab": {
      "provenance": []
    },
    "kernelspec": {
      "name": "python3",
      "display_name": "Python 3"
    },
    "language_info": {
      "name": "python"
    }
  },
  "cells": [
    {
      "cell_type": "markdown",
      "metadata": {
        "id": "view-in-github"
      },
      "source": [
        "<a href=\"https://colab.research.google.com/github/udlbook/udlbook/blob/main/Notebooks/Chap10/10_2_Convolution_for_MNIST_1D.ipynb\" target=\"_parent\"><img src=\"https://colab.research.google.com/assets/colab-badge.svg\" alt=\"Open In Colab\"/></a>"
      ]
    },
    {
      "cell_type": "markdown",
      "source": [
        "# **Notebook 10.2: Convolution for MNIST-1D**\n",
        "\n",
        "This notebook investigates a 1D convolutional network for MNIST-1D as in figure 10.7 and 10.8a.\n",
        "\n",
        "Work through the cells below, running each cell in turn. In various places you will see the words \"TO DO\". Follow the instructions at these places and make predictions about what is going to happen or write code to complete the functions.\n",
        "\n",
        "Contact me at udlbookmail@gmail.com if you find any mistakes or have any suggestions.\n",
        "\n"
      ],
      "metadata": {
        "id": "t9vk9Elugvmi"
      }
    },
    {
      "cell_type": "code",
      "source": [
        "# Run this if you're in a Colab to install MNIST 1D repository\n",
        "!pip install git+https://github.com/greydanus/mnist1d"
      ],
      "metadata": {
        "id": "D5yLObtZCi9J",
        "colab": {
          "base_uri": "https://localhost:8080/"
        },
        "outputId": "da369aed-ee1c-432c-9a3f-d90114472cfa"
      },
      "execution_count": 1,
      "outputs": [
        {
          "output_type": "stream",
          "name": "stdout",
          "text": [
            "Collecting git+https://github.com/greydanus/mnist1d\n",
            "  Cloning https://github.com/greydanus/mnist1d to /tmp/pip-req-build-d6kj0qyc\n",
            "  Running command git clone --filter=blob:none --quiet https://github.com/greydanus/mnist1d /tmp/pip-req-build-d6kj0qyc\n",
            "  Resolved https://github.com/greydanus/mnist1d to commit 7878d96082abd200c546a07a4101fa90b30fdf7e\n",
            "  Installing build dependencies ... \u001b[?25l\u001b[?25hdone\n",
            "  Getting requirements to build wheel ... \u001b[?25l\u001b[?25hdone\n",
            "  Preparing metadata (pyproject.toml) ... \u001b[?25l\u001b[?25hdone\n",
            "Requirement already satisfied: requests in /usr/local/lib/python3.10/dist-packages (from mnist1d==0.0.2.post16) (2.32.3)\n",
            "Requirement already satisfied: numpy in /usr/local/lib/python3.10/dist-packages (from mnist1d==0.0.2.post16) (1.26.4)\n",
            "Requirement already satisfied: matplotlib in /usr/local/lib/python3.10/dist-packages (from mnist1d==0.0.2.post16) (3.8.0)\n",
            "Requirement already satisfied: scipy in /usr/local/lib/python3.10/dist-packages (from mnist1d==0.0.2.post16) (1.13.1)\n",
            "Requirement already satisfied: contourpy>=1.0.1 in /usr/local/lib/python3.10/dist-packages (from matplotlib->mnist1d==0.0.2.post16) (1.3.0)\n",
            "Requirement already satisfied: cycler>=0.10 in /usr/local/lib/python3.10/dist-packages (from matplotlib->mnist1d==0.0.2.post16) (0.12.1)\n",
            "Requirement already satisfied: fonttools>=4.22.0 in /usr/local/lib/python3.10/dist-packages (from matplotlib->mnist1d==0.0.2.post16) (4.54.1)\n",
            "Requirement already satisfied: kiwisolver>=1.0.1 in /usr/local/lib/python3.10/dist-packages (from matplotlib->mnist1d==0.0.2.post16) (1.4.7)\n",
            "Requirement already satisfied: packaging>=20.0 in /usr/local/lib/python3.10/dist-packages (from matplotlib->mnist1d==0.0.2.post16) (24.1)\n",
            "Requirement already satisfied: pillow>=6.2.0 in /usr/local/lib/python3.10/dist-packages (from matplotlib->mnist1d==0.0.2.post16) (10.4.0)\n",
            "Requirement already satisfied: pyparsing>=2.3.1 in /usr/local/lib/python3.10/dist-packages (from matplotlib->mnist1d==0.0.2.post16) (3.2.0)\n",
            "Requirement already satisfied: python-dateutil>=2.7 in /usr/local/lib/python3.10/dist-packages (from matplotlib->mnist1d==0.0.2.post16) (2.8.2)\n",
            "Requirement already satisfied: charset-normalizer<4,>=2 in /usr/local/lib/python3.10/dist-packages (from requests->mnist1d==0.0.2.post16) (3.4.0)\n",
            "Requirement already satisfied: idna<4,>=2.5 in /usr/local/lib/python3.10/dist-packages (from requests->mnist1d==0.0.2.post16) (3.10)\n",
            "Requirement already satisfied: urllib3<3,>=1.21.1 in /usr/local/lib/python3.10/dist-packages (from requests->mnist1d==0.0.2.post16) (2.2.3)\n",
            "Requirement already satisfied: certifi>=2017.4.17 in /usr/local/lib/python3.10/dist-packages (from requests->mnist1d==0.0.2.post16) (2024.8.30)\n",
            "Requirement already satisfied: six>=1.5 in /usr/local/lib/python3.10/dist-packages (from python-dateutil>=2.7->matplotlib->mnist1d==0.0.2.post16) (1.16.0)\n",
            "Building wheels for collected packages: mnist1d\n",
            "  Building wheel for mnist1d (pyproject.toml) ... \u001b[?25l\u001b[?25hdone\n",
            "  Created wheel for mnist1d: filename=mnist1d-0.0.2.post16-py3-none-any.whl size=14624 sha256=70235365d28214b4a9be9e4cd2ca2781d322aaa231f93b4ffeccd3481752a38a\n",
            "  Stored in directory: /tmp/pip-ephem-wheel-cache-2ed6zs91/wheels/41/95/55/45fcf7d38cfa97e35682da6c5017d4513729131326ce935371\n",
            "Successfully built mnist1d\n",
            "Installing collected packages: mnist1d\n",
            "Successfully installed mnist1d-0.0.2.post16\n"
          ]
        }
      ]
    },
    {
      "cell_type": "code",
      "source": [
        "import numpy as np\n",
        "import os\n",
        "import torch, torch.nn as nn\n",
        "from torch.utils.data import TensorDataset, DataLoader\n",
        "from torch.optim.lr_scheduler import StepLR\n",
        "import matplotlib.pyplot as plt\n",
        "import mnist1d\n",
        "import random"
      ],
      "metadata": {
        "id": "YrXWAH7sUWvU"
      },
      "execution_count": 2,
      "outputs": []
    },
    {
      "cell_type": "code",
      "source": [
        "args = mnist1d.data.get_dataset_args()\n",
        "data = mnist1d.data.get_dataset(args, path='./mnist1d_data.pkl', download=False, regenerate=False)\n",
        "\n",
        "# The training and test input and outputs are in\n",
        "# data['x'], data['y'], data['x_test'], and data['y_test']\n",
        "print(\"Examples in training set: {}\".format(len(data['y'])))\n",
        "print(\"Examples in test set: {}\".format(len(data['y_test'])))\n",
        "print(\"Length of each example: {}\".format(data['x'].shape[-1]))"
      ],
      "metadata": {
        "id": "twI72ZCrCt5z",
        "colab": {
          "base_uri": "https://localhost:8080/"
        },
        "outputId": "4493dda5-f163-45fa-9d39-91e2334be1c2"
      },
      "execution_count": 3,
      "outputs": [
        {
          "output_type": "stream",
          "name": "stdout",
          "text": [
            "Did or could not load data from ./mnist1d_data.pkl. Rebuilding dataset...\n",
            "Examples in training set: 4000\n",
            "Examples in test set: 1000\n",
            "Length of each example: 40\n"
          ]
        }
      ]
    },
    {
      "cell_type": "code",
      "source": [
        "# Load in the data\n",
        "train_data_x = data['x'].transpose()\n",
        "train_data_y = data['y']\n",
        "val_data_x = data['x_test'].transpose()\n",
        "val_data_y = data['y_test']\n",
        "# Print out sizes\n",
        "print(\"Train data: %d examples (columns), each of which has %d dimensions (rows)\"%((train_data_x.shape[1],train_data_x.shape[0])))\n",
        "print(\"Validation data: %d examples (columns), each of which has %d dimensions (rows)\"%((val_data_x.shape[1],val_data_x.shape[0])))"
      ],
      "metadata": {
        "id": "8bKADvLHbiV5",
        "colab": {
          "base_uri": "https://localhost:8080/"
        },
        "outputId": "1ed00b21-d181-4ce6-801c-241d57adda05"
      },
      "execution_count": 4,
      "outputs": [
        {
          "output_type": "stream",
          "name": "stdout",
          "text": [
            "Train data: 4000 examples (columns), each of which has 40 dimensions (rows)\n",
            "Validation data: 1000 examples (columns), each of which has 40 dimensions (rows)\n"
          ]
        }
      ]
    },
    {
      "cell_type": "markdown",
      "source": [
        "Define the network"
      ],
      "metadata": {
        "id": "_sFvRDGrl4qe"
      }
    },
    {
      "cell_type": "code",
      "source": [
        "# There are 40 input dimensions and 10 output dimensions for this data\n",
        "# The inputs correspond to the 40 offsets in the MNIST1D template.\n",
        "D_i = 40\n",
        "# The outputs correspond to the 10 digits\n",
        "D_o = 10\n",
        "\n",
        "\n",
        "# TODO Create a model with the following layers\n",
        "# 1. Convolutional layer, (input=length 40 and 1 channel, kernel size 3, stride 2, padding=\"valid\", 15 output channels )\n",
        "# 2. ReLU\n",
        "# 3. Convolutional layer, (input=length 19 and 15 channels, kernel size 3, stride 2, padding=\"valid\", 15 output channels )\n",
        "# 4. ReLU\n",
        "# 5. Convolutional layer, (input=length 9 and 15 channels, kernel size 3, stride 2, padding=\"valid\", 15 output channels)\n",
        "# 6. ReLU\n",
        "# 7. Flatten (converts 4x15) to length 60\n",
        "# 8. Linear layer (input size = 60, output size = 10)\n",
        "# References:\n",
        "# https://pytorch.org/docs/1.13/generated/torch.nn.Conv1d.html?highlight=conv1d#torch.nn.Conv1d\n",
        "# https://pytorch.org/docs/stable/generated/torch.nn.Flatten.html\n",
        "# https://pytorch.org/docs/1.13/generated/torch.nn.Linear.html?highlight=linear#torch.nn.Linear\n",
        "\n",
        "# NOTE THAT THE CONVOLUTIONAL LAYERS NEED TO TAKE THE NUMBER OF INPUT CHANNELS AS A PARAMETER\n",
        "# AND NOT THE INPUT SIZE.\n",
        "\n",
        "# Replace the following function:\n",
        "model = nn.Sequential(\n",
        "    nn.Conv1d(in_channels=1, out_channels=15, kernel_size=3, stride=2, padding=\"valid\"),\n",
        "    nn.ReLU(),\n",
        "    nn.Conv1d(in_channels=15, out_channels=15, kernel_size=3, stride=2, padding=\"valid\"),\n",
        "    nn.ReLU(),\n",
        "    nn.Conv1d(in_channels=15, out_channels=15, kernel_size=3, stride=2, padding=\"valid\"),\n",
        "    nn.ReLU(),\n",
        "    nn.Flatten(),\n",
        "    nn.Linear(60, D_o))\n",
        "\n",
        "\n"
      ],
      "metadata": {
        "id": "FslroPJJffrh"
      },
      "execution_count": 5,
      "outputs": []
    },
    {
      "cell_type": "code",
      "source": [
        "# He initialization of weights\n",
        "def weights_init(layer_in):\n",
        "  if isinstance(layer_in, nn.Linear):\n",
        "    nn.init.kaiming_uniform_(layer_in.weight)\n",
        "    layer_in.bias.data.fill_(0.0)"
      ],
      "metadata": {
        "id": "YgLaex1pfhqz"
      },
      "execution_count": 6,
      "outputs": []
    },
    {
      "cell_type": "code",
      "source": [
        "# choose cross entropy loss function (equation 5.24 in the loss notes)\n",
        "loss_function = nn.CrossEntropyLoss()\n",
        "# construct SGD optimizer and initialize learning rate and momentum\n",
        "optimizer = torch.optim.SGD(model.parameters(), lr = 0.05, momentum=0.9)\n",
        "# object that decreases learning rate by half every 20 epochs\n",
        "scheduler = StepLR(optimizer, step_size=20, gamma=0.5)\n",
        "# create 100 dummy data points and store in data loader class\n",
        "x_train = torch.tensor(train_data_x.transpose().astype('float32'))\n",
        "y_train = torch.tensor(train_data_y.astype('long')).long()\n",
        "x_val= torch.tensor(val_data_x.transpose().astype('float32'))\n",
        "y_val = torch.tensor(val_data_y.astype('long')).long()\n",
        "\n",
        "# load the data into a class that creates the batches\n",
        "data_loader = DataLoader(TensorDataset(x_train,y_train), batch_size=100, shuffle=True, worker_init_fn=np.random.seed(1))\n",
        "\n",
        "# Initialize model weights\n",
        "model.apply(weights_init)\n",
        "\n",
        "# loop over the dataset n_epoch times\n",
        "n_epoch = 100\n",
        "# store the loss and the % correct at each epoch\n",
        "losses_train = np.zeros((n_epoch))\n",
        "errors_train = np.zeros((n_epoch))\n",
        "losses_val = np.zeros((n_epoch))\n",
        "errors_val = np.zeros((n_epoch))\n",
        "\n",
        "for epoch in range(n_epoch):\n",
        "  # loop over batches\n",
        "  for i, data in enumerate(data_loader):\n",
        "    # retrieve inputs and labels for this batch\n",
        "    x_batch, y_batch = data\n",
        "    # zero the parameter gradients\n",
        "    optimizer.zero_grad()\n",
        "    # forward pass -- calculate model output\n",
        "    pred = model(x_batch[:,None,:])\n",
        "    # compute the loss\n",
        "    loss = loss_function(pred, y_batch)\n",
        "    # backward pass\n",
        "    loss.backward()\n",
        "    # SGD update\n",
        "    optimizer.step()\n",
        "\n",
        "  # Run whole dataset to get statistics -- normally wouldn't do this\n",
        "  pred_train = model(x_train[:,None,:])\n",
        "  pred_val = model(x_val[:,None,:])\n",
        "  _, predicted_train_class = torch.max(pred_train.data, 1)\n",
        "  _, predicted_val_class = torch.max(pred_val.data, 1)\n",
        "  errors_train[epoch] = 100 - 100 * (predicted_train_class == y_train).float().sum() / len(y_train)\n",
        "  errors_val[epoch]= 100 - 100 * (predicted_val_class == y_val).float().sum() / len(y_val)\n",
        "  losses_train[epoch] = loss_function(pred_train, y_train).item()\n",
        "  losses_val[epoch]= loss_function(pred_val, y_val).item()\n",
        "  print(f'Epoch {epoch:5d}, train loss {losses_train[epoch]:.6f}, train error {errors_train[epoch]:3.2f},  val loss {losses_val[epoch]:.6f}, percent error {errors_val[epoch]:3.2f}')\n",
        "\n",
        "  # tell scheduler to consider updating learning rate\n",
        "  scheduler.step()\n",
        "\n",
        "# Plot the results\n",
        "fig, ax = plt.subplots()\n",
        "ax.plot(errors_train,'r-',label='train')\n",
        "ax.plot(errors_val,'b-',label='validation')\n",
        "ax.set_ylim(0,100); ax.set_xlim(0,n_epoch)\n",
        "ax.set_xlabel('Epoch'); ax.set_ylabel('Error')\n",
        "ax.set_title('Part I: Validation Result %3.2f'%(errors_val[-1]))\n",
        "ax.legend()\n",
        "plt.show()"
      ],
      "metadata": {
        "id": "NYw8I_3mmX5c",
        "colab": {
          "base_uri": "https://localhost:8080/",
          "height": 1000
        },
        "outputId": "420afe0b-b23a-4f74-f6f0-550d9ae983c6"
      },
      "execution_count": 7,
      "outputs": [
        {
          "output_type": "stream",
          "name": "stdout",
          "text": [
            "Epoch     0, train loss 1.995341, train error 76.18,  val loss 2.007212, percent error 77.30\n",
            "Epoch     1, train loss 1.562130, train error 61.47,  val loss 1.581549, percent error 64.70\n",
            "Epoch     2, train loss 1.397923, train error 56.12,  val loss 1.421744, percent error 57.70\n",
            "Epoch     3, train loss 1.321376, train error 52.97,  val loss 1.345888, percent error 55.60\n",
            "Epoch     4, train loss 1.228206, train error 50.55,  val loss 1.249867, percent error 52.10\n",
            "Epoch     5, train loss 1.184978, train error 47.17,  val loss 1.222417, percent error 51.50\n",
            "Epoch     6, train loss 1.100085, train error 44.65,  val loss 1.119750, percent error 46.60\n",
            "Epoch     7, train loss 0.995646, train error 39.85,  val loss 1.044537, percent error 44.30\n",
            "Epoch     8, train loss 0.908242, train error 36.22,  val loss 0.951568, percent error 38.60\n",
            "Epoch     9, train loss 0.899597, train error 36.28,  val loss 0.958907, percent error 39.50\n",
            "Epoch    10, train loss 0.744280, train error 30.20,  val loss 0.807583, percent error 33.20\n",
            "Epoch    11, train loss 0.703110, train error 28.10,  val loss 0.774877, percent error 31.60\n",
            "Epoch    12, train loss 0.612841, train error 23.22,  val loss 0.694393, percent error 27.90\n",
            "Epoch    13, train loss 0.539447, train error 20.82,  val loss 0.632763, percent error 25.30\n",
            "Epoch    14, train loss 0.605956, train error 24.07,  val loss 0.703436, percent error 27.80\n",
            "Epoch    15, train loss 0.455074, train error 16.82,  val loss 0.555641, percent error 20.40\n",
            "Epoch    16, train loss 0.537414, train error 20.07,  val loss 0.706267, percent error 26.30\n",
            "Epoch    17, train loss 0.385191, train error 13.82,  val loss 0.511146, percent error 18.10\n",
            "Epoch    18, train loss 0.338194, train error 12.45,  val loss 0.483556, percent error 17.40\n",
            "Epoch    19, train loss 0.332384, train error 11.80,  val loss 0.491114, percent error 17.50\n",
            "Epoch    20, train loss 0.250502, train error 8.50,  val loss 0.418749, percent error 13.90\n",
            "Epoch    21, train loss 0.238303, train error 8.10,  val loss 0.406768, percent error 14.00\n",
            "Epoch    22, train loss 0.194859, train error 6.12,  val loss 0.378084, percent error 12.20\n",
            "Epoch    23, train loss 0.200917, train error 7.18,  val loss 0.381427, percent error 12.40\n",
            "Epoch    24, train loss 0.179251, train error 5.75,  val loss 0.374512, percent error 12.20\n",
            "Epoch    25, train loss 0.202356, train error 7.00,  val loss 0.406524, percent error 13.10\n",
            "Epoch    26, train loss 0.160620, train error 5.35,  val loss 0.348871, percent error 11.20\n",
            "Epoch    27, train loss 0.161212, train error 5.65,  val loss 0.381825, percent error 11.70\n",
            "Epoch    28, train loss 0.171647, train error 6.03,  val loss 0.379965, percent error 11.70\n",
            "Epoch    29, train loss 0.164880, train error 5.62,  val loss 0.400454, percent error 13.00\n",
            "Epoch    30, train loss 0.145471, train error 4.97,  val loss 0.371509, percent error 11.70\n",
            "Epoch    31, train loss 0.110130, train error 3.50,  val loss 0.332821, percent error 9.90\n",
            "Epoch    32, train loss 0.135057, train error 4.72,  val loss 0.381582, percent error 11.70\n",
            "Epoch    33, train loss 0.100050, train error 2.72,  val loss 0.323723, percent error 9.20\n",
            "Epoch    34, train loss 0.131978, train error 4.68,  val loss 0.372253, percent error 11.30\n",
            "Epoch    35, train loss 0.124723, train error 4.28,  val loss 0.378695, percent error 11.70\n",
            "Epoch    36, train loss 0.104784, train error 3.20,  val loss 0.360120, percent error 10.00\n",
            "Epoch    37, train loss 0.102594, train error 3.15,  val loss 0.335820, percent error 9.80\n",
            "Epoch    38, train loss 0.107697, train error 3.75,  val loss 0.354783, percent error 10.90\n",
            "Epoch    39, train loss 0.117790, train error 4.12,  val loss 0.350980, percent error 9.80\n",
            "Epoch    40, train loss 0.075175, train error 2.10,  val loss 0.322605, percent error 9.40\n",
            "Epoch    41, train loss 0.065827, train error 1.75,  val loss 0.323042, percent error 8.70\n",
            "Epoch    42, train loss 0.061273, train error 1.38,  val loss 0.325071, percent error 8.70\n",
            "Epoch    43, train loss 0.061846, train error 1.57,  val loss 0.324104, percent error 9.10\n",
            "Epoch    44, train loss 0.070138, train error 2.28,  val loss 0.349091, percent error 9.60\n",
            "Epoch    45, train loss 0.058210, train error 1.38,  val loss 0.331018, percent error 8.90\n",
            "Epoch    46, train loss 0.058442, train error 1.38,  val loss 0.336251, percent error 9.30\n",
            "Epoch    47, train loss 0.057469, train error 1.47,  val loss 0.331020, percent error 9.00\n",
            "Epoch    48, train loss 0.053167, train error 1.35,  val loss 0.336126, percent error 8.80\n",
            "Epoch    49, train loss 0.051701, train error 1.22,  val loss 0.346261, percent error 9.10\n",
            "Epoch    50, train loss 0.052219, train error 1.28,  val loss 0.354257, percent error 8.80\n",
            "Epoch    51, train loss 0.049619, train error 1.12,  val loss 0.346144, percent error 9.10\n",
            "Epoch    52, train loss 0.049006, train error 1.25,  val loss 0.358503, percent error 9.30\n",
            "Epoch    53, train loss 0.049594, train error 1.35,  val loss 0.355050, percent error 9.50\n",
            "Epoch    54, train loss 0.046424, train error 1.28,  val loss 0.353930, percent error 9.60\n",
            "Epoch    55, train loss 0.050033, train error 1.30,  val loss 0.353382, percent error 9.80\n",
            "Epoch    56, train loss 0.043578, train error 1.15,  val loss 0.345151, percent error 9.10\n",
            "Epoch    57, train loss 0.040486, train error 0.90,  val loss 0.361041, percent error 9.10\n",
            "Epoch    58, train loss 0.040979, train error 0.85,  val loss 0.364267, percent error 9.10\n",
            "Epoch    59, train loss 0.039836, train error 0.88,  val loss 0.357994, percent error 9.40\n",
            "Epoch    60, train loss 0.036715, train error 0.68,  val loss 0.360851, percent error 9.30\n",
            "Epoch    61, train loss 0.036202, train error 0.70,  val loss 0.363791, percent error 9.50\n",
            "Epoch    62, train loss 0.037066, train error 0.60,  val loss 0.363402, percent error 9.50\n",
            "Epoch    63, train loss 0.035193, train error 0.55,  val loss 0.360527, percent error 9.10\n",
            "Epoch    64, train loss 0.034996, train error 0.70,  val loss 0.367073, percent error 9.10\n",
            "Epoch    65, train loss 0.036290, train error 0.70,  val loss 0.376455, percent error 9.60\n",
            "Epoch    66, train loss 0.034211, train error 0.53,  val loss 0.373876, percent error 9.30\n",
            "Epoch    67, train loss 0.033646, train error 0.65,  val loss 0.374270, percent error 9.50\n",
            "Epoch    68, train loss 0.032964, train error 0.43,  val loss 0.377142, percent error 9.40\n",
            "Epoch    69, train loss 0.032252, train error 0.50,  val loss 0.371159, percent error 9.40\n",
            "Epoch    70, train loss 0.032558, train error 0.50,  val loss 0.372849, percent error 9.10\n",
            "Epoch    71, train loss 0.034197, train error 0.68,  val loss 0.384842, percent error 9.10\n",
            "Epoch    72, train loss 0.033267, train error 0.53,  val loss 0.380612, percent error 9.60\n",
            "Epoch    73, train loss 0.030827, train error 0.43,  val loss 0.381745, percent error 9.20\n",
            "Epoch    74, train loss 0.030229, train error 0.35,  val loss 0.383028, percent error 9.50\n",
            "Epoch    75, train loss 0.030697, train error 0.45,  val loss 0.376108, percent error 9.30\n",
            "Epoch    76, train loss 0.030501, train error 0.45,  val loss 0.380143, percent error 9.10\n",
            "Epoch    77, train loss 0.030020, train error 0.35,  val loss 0.393792, percent error 9.40\n",
            "Epoch    78, train loss 0.029835, train error 0.30,  val loss 0.395116, percent error 9.50\n",
            "Epoch    79, train loss 0.028809, train error 0.45,  val loss 0.380546, percent error 9.60\n",
            "Epoch    80, train loss 0.028057, train error 0.38,  val loss 0.382924, percent error 9.40\n",
            "Epoch    81, train loss 0.027923, train error 0.38,  val loss 0.388004, percent error 9.60\n",
            "Epoch    82, train loss 0.027557, train error 0.38,  val loss 0.387298, percent error 9.60\n",
            "Epoch    83, train loss 0.027561, train error 0.35,  val loss 0.389265, percent error 9.30\n",
            "Epoch    84, train loss 0.027054, train error 0.38,  val loss 0.389036, percent error 9.20\n",
            "Epoch    85, train loss 0.026973, train error 0.35,  val loss 0.391218, percent error 9.40\n",
            "Epoch    86, train loss 0.026790, train error 0.38,  val loss 0.392049, percent error 9.10\n",
            "Epoch    87, train loss 0.026712, train error 0.35,  val loss 0.388784, percent error 9.40\n",
            "Epoch    88, train loss 0.026549, train error 0.32,  val loss 0.390220, percent error 9.40\n",
            "Epoch    89, train loss 0.026537, train error 0.28,  val loss 0.392927, percent error 9.40\n",
            "Epoch    90, train loss 0.026677, train error 0.38,  val loss 0.394682, percent error 9.10\n",
            "Epoch    91, train loss 0.026380, train error 0.40,  val loss 0.394305, percent error 9.10\n",
            "Epoch    92, train loss 0.026004, train error 0.35,  val loss 0.394984, percent error 9.00\n",
            "Epoch    93, train loss 0.025726, train error 0.35,  val loss 0.394284, percent error 9.40\n",
            "Epoch    94, train loss 0.025459, train error 0.35,  val loss 0.395118, percent error 9.30\n",
            "Epoch    95, train loss 0.025436, train error 0.35,  val loss 0.397323, percent error 9.10\n",
            "Epoch    96, train loss 0.025437, train error 0.35,  val loss 0.397801, percent error 9.50\n",
            "Epoch    97, train loss 0.025538, train error 0.32,  val loss 0.401328, percent error 9.30\n",
            "Epoch    98, train loss 0.025088, train error 0.32,  val loss 0.399433, percent error 9.20\n",
            "Epoch    99, train loss 0.024873, train error 0.25,  val loss 0.400723, percent error 9.50\n"
          ]
        },
        {
          "output_type": "display_data",
          "data": {
            "text/plain": [
              "<Figure size 640x480 with 1 Axes>"
            ],
            "image/png": "[encoded data removed]"
          },
          "metadata": {}
        }
      ]
    }
  ]
}